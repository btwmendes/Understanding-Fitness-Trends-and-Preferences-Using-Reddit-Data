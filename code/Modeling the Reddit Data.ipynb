{
 "cells": [
  {
   "cell_type": "markdown",
   "metadata": {},
   "source": [
    "# Modeling the Reddit Data"
   ]
  },
  {
   "cell_type": "markdown",
   "metadata": {},
   "source": [
    "The Subreddits include:\n",
    "- bodyweight fitness = 0\n",
    "- powerlifting = 1 "
   ]
  },
  {
   "cell_type": "markdown",
   "metadata": {},
   "source": [
    "### Import Libraries"
   ]
  },
  {
   "cell_type": "code",
   "execution_count": 116,
   "metadata": {},
   "outputs": [],
   "source": [
    "import pandas as pd\n",
    "import numpy as np\n",
    "import matplotlib.pyplot as plt\n",
    "import seaborn as sns\n",
    "\n",
    "from sklearn.tree import DecisionTreeClassifier\n",
    "from sklearn.metrics import accuracy_score\n",
    "\n",
    "from sklearn.ensemble import BaggingClassifier\n",
    "\n",
    "from sklearn.ensemble import RandomForestClassifier, ExtraTreesClassifier\n",
    "from sklearn.model_selection import cross_val_score, train_test_split, GridSearchCV\n",
    "\n",
    "# Boosting\n",
    "from sklearn.ensemble import GradientBoostingClassifier, AdaBoostClassifier, VotingClassifier, BaggingClassifier\n",
    "from sklearn.datasets import make_classification  # creates random datasets\n",
    "\n",
    "from sklearn.metrics import confusion_matrix, plot_confusion_matrix"
   ]
  },
  {
   "cell_type": "markdown",
   "metadata": {},
   "source": [
    "### Import Modeling Data"
   ]
  },
  {
   "cell_type": "code",
   "execution_count": 117,
   "metadata": {},
   "outputs": [],
   "source": [
    "df = pd.read_csv('../datasets/model_ready_data_tvec.csv')"
   ]
  },
  {
   "cell_type": "markdown",
   "metadata": {},
   "source": [
    "## Baseline Model"
   ]
  },
  {
   "cell_type": "code",
   "execution_count": 185,
   "metadata": {},
   "outputs": [
    {
     "data": {
      "text/plain": [
       "1    0.5\n",
       "0    0.5\n",
       "Name: subreddit, dtype: float64"
      ]
     },
     "execution_count": 185,
     "metadata": {},
     "output_type": "execute_result"
    }
   ],
   "source": [
    "# baseline accuracy - the percentage of the majority class\n",
    "y.value_counts(normalize=True)"
   ]
  },
  {
   "cell_type": "markdown",
   "metadata": {},
   "source": [
    "**The baseline model is 0.5. This is the model to beat**"
   ]
  },
  {
   "cell_type": "markdown",
   "metadata": {},
   "source": [
    "## Model 1: Decision Tree"
   ]
  },
  {
   "cell_type": "code",
   "execution_count": 119,
   "metadata": {},
   "outputs": [
    {
     "data": {
      "text/plain": [
       "DecisionTreeClassifier()"
      ]
     },
     "execution_count": 119,
     "metadata": {},
     "output_type": "execute_result"
    }
   ],
   "source": [
    "# Creat X and y variables\n",
    "X = df.drop('subreddit', axis=1) \n",
    "y = df['subreddit']\n",
    "\n",
    "# Train, Test Split\n",
    "X_train, X_test, y_train, y_test = train_test_split(X, y, test_size = 0.3, random_state = 42)\n",
    "\n",
    "# Instantiate the model\n",
    "dt = DecisionTreeClassifier()\n",
    "\n",
    "# Fit model.\n",
    "dt.fit(X_train, y_train)"
   ]
  },
  {
   "cell_type": "code",
   "execution_count": 120,
   "metadata": {},
   "outputs": [
    {
     "name": "stdout",
     "output_type": "stream",
     "text": [
      "Score on training set: 0.9958571428571429\n",
      "Score on testing set: 0.8681666666666666\n"
     ]
    }
   ],
   "source": [
    "# Evaluate model.\n",
    "print(f'Score on training set: {dt.score(X_train, y_train)}')\n",
    "print(f'Score on testing set: {dt.score(X_test, y_test)}')"
   ]
  },
  {
   "cell_type": "markdown",
   "metadata": {},
   "source": [
    "**Analysis:**\n",
    "<br>\n",
    "The training score is .996 and the testing score is .868, which indicates that the model is overfit. This is an expected weekness a decision tree with untuned parameters. In the code below I will perform a grid search to find better parameters. "
   ]
  },
  {
   "cell_type": "markdown",
   "metadata": {},
   "source": [
    "**Grid search to fine tune the parameters**"
   ]
  },
  {
   "cell_type": "code",
   "execution_count": 121,
   "metadata": {},
   "outputs": [],
   "source": [
    "params = {\n",
    "    'max_depth': [2, 3, 5],\n",
    "          'min_samples_split': [5, 10, 15],\n",
    "          'min_samples_leaf': [2, 3, 4],\n",
    "    'ccp_alpha': [0.001, 0.01, 0.1,]      \n",
    "}\n",
    "\n",
    "grid = GridSearchCV(estimator = DecisionTreeClassifier(random_state=42),\n",
    "                    param_grid = params,\n",
    "                    cv = 3,\n",
    "                    verbose = 1)"
   ]
  },
  {
   "cell_type": "code",
   "execution_count": 122,
   "metadata": {},
   "outputs": [
    {
     "name": "stdout",
     "output_type": "stream",
     "text": [
      "Fitting 3 folds for each of 81 candidates, totalling 243 fits\n"
     ]
    },
    {
     "name": "stderr",
     "output_type": "stream",
     "text": [
      "[Parallel(n_jobs=1)]: Using backend SequentialBackend with 1 concurrent workers.\n",
      "[Parallel(n_jobs=1)]: Done 243 out of 243 | elapsed:  5.7min finished\n"
     ]
    },
    {
     "name": "stdout",
     "output_type": "stream",
     "text": [
      "346.5070788860321\n"
     ]
    }
   ],
   "source": [
    "# GridSearch over the above parameters on the training data.\n",
    "grid.fit(X_train, y_train)\n"
   ]
  },
  {
   "cell_type": "code",
   "execution_count": 123,
   "metadata": {},
   "outputs": [
    {
     "data": {
      "text/plain": [
       "DecisionTreeClassifier(ccp_alpha=0.001, max_depth=5, min_samples_leaf=2,\n",
       "                       min_samples_split=5, random_state=42)"
      ]
     },
     "execution_count": 123,
     "metadata": {},
     "output_type": "execute_result"
    }
   ],
   "source": [
    "# Finds the best decision tree\n",
    "grid.best_estimator_"
   ]
  },
  {
   "cell_type": "code",
   "execution_count": 124,
   "metadata": {},
   "outputs": [
    {
     "data": {
      "text/plain": [
       "0.697428736720263"
      ]
     },
     "execution_count": 124,
     "metadata": {},
     "output_type": "execute_result"
    }
   ],
   "source": [
    "# What was the cross-validated score of the above decision tree?\n",
    "grid.best_score_"
   ]
  },
  {
   "cell_type": "code",
   "execution_count": 125,
   "metadata": {},
   "outputs": [
    {
     "name": "stdout",
     "output_type": "stream",
     "text": [
      "Score on training set: 0.7021428571428572\n",
      "Score on testing set: 0.696\n"
     ]
    }
   ],
   "source": [
    "# Evaluate model.\n",
    "print(f'Score on training set: {grid.score(X_train, y_train)}')\n",
    "print(f'Score on testing set: {grid.score(X_test, y_test)}')"
   ]
  },
  {
   "cell_type": "markdown",
   "metadata": {},
   "source": [
    "**Analysis:**\n",
    "<br>\n",
    "Grid search chose the folowing values for the parameters:\n",
    "- ccp_alpha = 0.001\n",
    "- max_depth = 5\n",
    "- min_samples_lef = 2\n",
    "- min_samples_split = 5\n",
    "<br>\n",
    "The cross validated score was 0.697.\n",
    "<br>\n",
    "The training score was 0.702 and the testing score was 0.696. These are drops from the original decision tree scores, which signals that the model is getting worse in its predictive ability. However, as the model gets more general the high variance error should also be reduced. "
   ]
  },
  {
   "cell_type": "markdown",
   "metadata": {},
   "source": [
    "### Confusion Matrix Analysis"
   ]
  },
  {
   "cell_type": "code",
   "execution_count": 126,
   "metadata": {},
   "outputs": [],
   "source": [
    "# Generate predictions on test set.\n",
    "y_pred_dt = grid.predict(X_test)"
   ]
  },
  {
   "cell_type": "code",
   "execution_count": 127,
   "metadata": {},
   "outputs": [
    {
     "name": "stdout",
     "output_type": "stream",
     "text": [
      "[[2968   49]\n",
      " [1775 1208]]\n"
     ]
    }
   ],
   "source": [
    "# Generate confusion matrix.\n",
    "tn, fp, fn, tp = confusion_matrix(y_test,\n",
    "                                  y_pred_dt).ravel()\n",
    "\n",
    "print(confusion_matrix(y_test,\n",
    "                       y_pred_dt))"
   ]
  },
  {
   "cell_type": "code",
   "execution_count": 128,
   "metadata": {},
   "outputs": [
    {
     "data": {
      "image/png": "[encoded data removed]",
      "text/plain": [
       "<Figure size 432x288 with 2 Axes>"
      ]
     },
     "metadata": {
      "needs_background": "light"
     },
     "output_type": "display_data"
    }
   ],
   "source": [
    "# Plot confusion matrix\n",
    "plot_confusion_matrix(grid, X_test, y_test, cmap='Blues', values_format='d');\n",
    "# code --> https://scikit-learn.org/stable/modules/generated/sklearn.metrics.plot_confusion_matrix.html"
   ]
  },
  {
   "cell_type": "code",
   "execution_count": 173,
   "metadata": {},
   "outputs": [],
   "source": [
    "tp_dt = 1208 # True Positives (Decision Tree)\n",
    "tn_dt = 2968 # True Negatives (Decision Tree)\n",
    "fp_dt = 49 # False Positives (Decision Tree)\n",
    "fn_dt = 1775 # False Negatives (Decision Tree)\n",
    "\n",
    "# code reference --> https://towardsdatascience.com/build-and-compare-3-models-nlp-sentiment-prediction-67320979de61"
   ]
  },
  {
   "cell_type": "code",
   "execution_count": 178,
   "metadata": {},
   "outputs": [
    {
     "name": "stdout",
     "output_type": "stream",
     "text": [
      "Sensitivity: 0.405\n"
     ]
    }
   ],
   "source": [
    "# Calculate sensitivity.\n",
    "\n",
    "sens_dt = tp_dt / (tp_dt + fn_dt)\n",
    "\n",
    "print(f'Sensitivity: {round(sens_dt, 4)}')"
   ]
  },
  {
   "cell_type": "code",
   "execution_count": 179,
   "metadata": {},
   "outputs": [
    {
     "name": "stdout",
     "output_type": "stream",
     "text": [
      "Specificity: 0.9838\n"
     ]
    }
   ],
   "source": [
    "# Calculate specificity.\n",
    "\n",
    "spec_dt = tn_dt / (tn_dt + fp_dt)\n",
    "\n",
    "print(f'Specificity: {round(spec_dt, 4)}')"
   ]
  },
  {
   "cell_type": "code",
   "execution_count": 180,
   "metadata": {},
   "outputs": [
    {
     "name": "stdout",
     "output_type": "stream",
     "text": [
      "Accuracy: 0.696\n"
     ]
    }
   ],
   "source": [
    "# Calculate accuracy.\n",
    "\n",
    "accuracy_dt = (tp_dt + tn_dt) / (tp_dt + tn_dt + fp_dt + fn_dt) \n",
    "\n",
    "print(f'Accuracy: {round(accuracy_dt, 4)}')"
   ]
  },
  {
   "cell_type": "code",
   "execution_count": 181,
   "metadata": {},
   "outputs": [
    {
     "name": "stdout",
     "output_type": "stream",
     "text": [
      "Precision: 0.961\n"
     ]
    }
   ],
   "source": [
    "# Calculate precision.\n",
    "\n",
    "precision_dt = tp_dt / (tp_dt + fp_dt)\n",
    "\n",
    "print(f'Precision: {round(precision_dt, 4)}')"
   ]
  },
  {
   "cell_type": "code",
   "execution_count": 182,
   "metadata": {
    "scrolled": true
   },
   "outputs": [
    {
     "name": "stdout",
     "output_type": "stream",
     "text": [
      "Recall: 0.405\n"
     ]
    }
   ],
   "source": [
    "# Calculate recall.\n",
    "\n",
    "recall_dt = tp_dt / (tp_dt + fn_dt)\n",
    "\n",
    "print(f'Recall: {round(recall_dt, 4)}')"
   ]
  },
  {
   "cell_type": "markdown",
   "metadata": {},
   "source": [
    "**Analysis:**\n",
    "<br>\n",
    "The decision tree model has a sensitivity of 40.5%, which means it correctly predicts a powerlifting subreddit post only about 40% of the time or more noteably __incorrectly__ predicts it about 60% of the time. The specificity is much better at 98%. The model creates very few false positives."
   ]
  },
  {
   "cell_type": "markdown",
   "metadata": {},
   "source": [
    "## Model 2: Random Forests and ExtraTrees"
   ]
  },
  {
   "cell_type": "markdown",
   "metadata": {},
   "source": [
    "**_Random forests us a modified tree learning algorithm that selects, at each split in the learning process, a random subset of the features. This counters the correlation between base trees that would otherwise choose the few features that are strong predictors of the target variable._**"
   ]
  },
  {
   "cell_type": "code",
   "execution_count": 136,
   "metadata": {},
   "outputs": [],
   "source": [
    "# Instantiate the Random Forest model\n",
    "rf = RandomForestClassifier(n_estimators=100)"
   ]
  },
  {
   "cell_type": "code",
   "execution_count": 137,
   "metadata": {},
   "outputs": [],
   "source": [
    "# Instantiate the Extra Trees model\n",
    "et = ExtraTreesClassifier(n_estimators=100)"
   ]
  },
  {
   "cell_type": "code",
   "execution_count": 138,
   "metadata": {},
   "outputs": [
    {
     "data": {
      "text/plain": [
       "0.9009285714285713"
      ]
     },
     "execution_count": 138,
     "metadata": {},
     "output_type": "execute_result"
    }
   ],
   "source": [
    "# Find the cross_val score for the Random Forest model\n",
    "cross_val_score(rf, X_train, y_train, cv=5).mean()"
   ]
  },
  {
   "cell_type": "code",
   "execution_count": 139,
   "metadata": {},
   "outputs": [
    {
     "data": {
      "text/plain": [
       "0.8972857142857142"
      ]
     },
     "execution_count": 139,
     "metadata": {},
     "output_type": "execute_result"
    }
   ],
   "source": [
    "# Find the cross_val score for the Extra Tree model\n",
    "cross_val_score(et, X_train, y_train, cv=5).mean()"
   ]
  },
  {
   "cell_type": "markdown",
   "metadata": {},
   "source": [
    "**Both the Random Forest and ExtraTrees models have cross val scores of about 0.90. Since the Random Forest model is slightly better I'll use it in the grid search to find ideal parameters.**"
   ]
  },
  {
   "cell_type": "code",
   "execution_count": 140,
   "metadata": {
    "scrolled": true
   },
   "outputs": [
    {
     "name": "stdout",
     "output_type": "stream",
     "text": [
      "0.9006426979543711\n",
      "218.96147513389587\n"
     ]
    }
   ],
   "source": [
    "# Grid Search\n",
    "\n",
    "rf_params = {\n",
    "    'n_estimators': [100, 150],\n",
    "    'max_depth': [None, 1, 2, 3],\n",
    "}\n",
    "\n",
    "gs = GridSearchCV(rf, param_grid=rf_params, cv=3)\n",
    "\n",
    "gs.fit(X_train, y_train)\n",
    "\n",
    "print(gs.best_score_)\n",
    "print(gs.best_params_)\n"
   ]
  },
  {
   "cell_type": "code",
   "execution_count": 141,
   "metadata": {},
   "outputs": [
    {
     "data": {
      "text/plain": [
       "0.9958571428571429"
      ]
     },
     "execution_count": 141,
     "metadata": {},
     "output_type": "execute_result"
    }
   ],
   "source": [
    "# Training set score\n",
    "gs.score(X_train, y_train)"
   ]
  },
  {
   "cell_type": "code",
   "execution_count": 142,
   "metadata": {},
   "outputs": [
    {
     "data": {
      "text/plain": [
       "0.9018333333333334"
      ]
     },
     "execution_count": 142,
     "metadata": {},
     "output_type": "execute_result"
    }
   ],
   "source": [
    "# Testing set score\n",
    "gs.score(X_test, y_test)"
   ]
  },
  {
   "cell_type": "markdown",
   "metadata": {},
   "source": [
    "**Analysis:**\n",
    "<br>\n",
    "The best grid score was 0.912. \n",
    "<br>\n",
    "The best parameters are as follows:\n",
    "- base_estimator_max_depth = 2\n",
    "- learning_rate = 1.0\n",
    "- n_estimators = 100\n",
    "<br>\n",
    "The grid search score on the training set was 0.996 and on the testing set was 0.902. The high testing score indicates that this model is also overfit; however, the different between the training and testing scores is shrinking. "
   ]
  },
  {
   "cell_type": "code",
   "execution_count": 146,
   "metadata": {},
   "outputs": [],
   "source": [
    "# Generate predictions on test set.\n",
    "y_pred_rf = rf.predict(X_test)"
   ]
  },
  {
   "cell_type": "code",
   "execution_count": 147,
   "metadata": {},
   "outputs": [
    {
     "name": "stdout",
     "output_type": "stream",
     "text": [
      "[[2809  208]\n",
      " [ 362 2621]]\n"
     ]
    }
   ],
   "source": [
    "# Generate confusion matrix.\n",
    "tn, fp, fn, tp = confusion_matrix(y_test,\n",
    "                                  y_pred_rf).ravel()\n",
    "\n",
    "print(confusion_matrix(y_test,\n",
    "                       y_pred_rf))"
   ]
  },
  {
   "cell_type": "code",
   "execution_count": 148,
   "metadata": {},
   "outputs": [
    {
     "data": {
      "image/png": "[encoded data removed]",
      "text/plain": [
       "<Figure size 432x288 with 2 Axes>"
      ]
     },
     "metadata": {
      "needs_background": "light"
     },
     "output_type": "display_data"
    }
   ],
   "source": [
    "# Plot confusion matrix\n",
    "plot_confusion_matrix(rf, X_test, y_test, cmap='Blues', values_format='d');"
   ]
  },
  {
   "cell_type": "code",
   "execution_count": 188,
   "metadata": {},
   "outputs": [],
   "source": [
    "tp_rf = 2621 # True Positives (Random Forest)\n",
    "tn_rf = 2809 # True Negatives (Random Forest)\n",
    "fp_rf = 208 # False Positives (Random Forest)\n",
    "fn_rf = 362 # False Negatives (Random Forest)"
   ]
  },
  {
   "cell_type": "code",
   "execution_count": 189,
   "metadata": {},
   "outputs": [
    {
     "name": "stdout",
     "output_type": "stream",
     "text": [
      "Sensitivity: 0.8786\n"
     ]
    }
   ],
   "source": [
    "# Calculate sensitivity.\n",
    "\n",
    "sens_rf = tp_rf / (tp_rf + fn_rf)\n",
    "\n",
    "print(f'Sensitivity: {round(sens_rf, 4)}')"
   ]
  },
  {
   "cell_type": "code",
   "execution_count": 190,
   "metadata": {},
   "outputs": [
    {
     "name": "stdout",
     "output_type": "stream",
     "text": [
      "Specificity: 0.9311\n"
     ]
    }
   ],
   "source": [
    "# Calculate specificity.\n",
    "\n",
    "spec_rf = tn_rf / (tn_rf + fp_rf)\n",
    "\n",
    "print(f'Specificity: {round(spec_rf, 4)}')"
   ]
  },
  {
   "cell_type": "code",
   "execution_count": 191,
   "metadata": {},
   "outputs": [
    {
     "name": "stdout",
     "output_type": "stream",
     "text": [
      "Accuracy: 0.905\n"
     ]
    }
   ],
   "source": [
    "# Calculate accuracy.\n",
    "\n",
    "accuracy_rf = (tp_rf + tn_rf) / (tp_rf + tn_rf + fp_rf + fn_rf) \n",
    "\n",
    "print(f'Accuracy: {round(accuracy_rf, 4)}')"
   ]
  },
  {
   "cell_type": "code",
   "execution_count": 192,
   "metadata": {},
   "outputs": [
    {
     "name": "stdout",
     "output_type": "stream",
     "text": [
      "Precision: 0.9265\n"
     ]
    }
   ],
   "source": [
    "# Calculate precision.\n",
    "\n",
    "precision_rf = tp_rf / (tp_rf + fp_rf)\n",
    "\n",
    "print(f'Precision: {round(precision_rf, 4)}')"
   ]
  },
  {
   "cell_type": "code",
   "execution_count": 193,
   "metadata": {},
   "outputs": [
    {
     "name": "stdout",
     "output_type": "stream",
     "text": [
      "Recall: 0.8786\n"
     ]
    }
   ],
   "source": [
    "# Calculate recall.\n",
    "\n",
    "recall_rf = tp_rf / (tp_rf + fn_rf)\n",
    "\n",
    "print(f'Recall: {round(recall_rf, 4)}')"
   ]
  },
  {
   "cell_type": "markdown",
   "metadata": {},
   "source": [
    "**Analysis:**\n",
    "<br>\n",
    "The random forest model has a sensitivity of 87.9%, which is significantly better than the first model. The specificity is 93%, which is about the same as the first model. The model also suffers from being overfit."
   ]
  },
  {
   "cell_type": "markdown",
   "metadata": {},
   "source": [
    "### Boosting as an Ensemble Model"
   ]
  },
  {
   "cell_type": "markdown",
   "metadata": {},
   "source": [
    "**_Boosting a model has several benefits: the model achieves higher performance than bagging when the hyperparameters are properly tuned, it works equally well for classification and regression, and it is resilient to outliers.<br>The disadvantages are that the hyperparameters are time consuming to properly tune, they don't scale with large amounts of data, and there is a higher risk of overfitting.<br>The aim of boosting is to reduce bias. The theory is that many weak learners can combine to make a single strong learner. Boosting uses shallow bias-base estimators so each weak learner has low variance and high bias.<br>AdaBoost works by fitting a sequence of weak learners on repeatedly modified versions of the data. The more the model misclassifies objects, the objects become more likely to be sampled in the subsequent trees.<br>Gradient boosting learns from its errors. It fits subsequent trees to the residuals of the last tree._**"
   ]
  },
  {
   "cell_type": "code",
   "execution_count": 156,
   "metadata": {
    "scrolled": true
   },
   "outputs": [
    {
     "name": "stdout",
     "output_type": "stream",
     "text": [
      "0.9116000000000001\n"
     ]
    },
    {
     "data": {
      "text/plain": [
       "{'base_estimator__max_depth': 2, 'learning_rate': 1.0, 'n_estimators': 100}"
      ]
     },
     "execution_count": 156,
     "metadata": {},
     "output_type": "execute_result"
    }
   ],
   "source": [
    "\n",
    "X_train, X_test, y_train, y_test = train_test_split(X, y, random_state=42, stratify=y)\n",
    "\n",
    "# code --> by Riley Dallas from Austin\n",
    "\n",
    "ada = AdaBoostClassifier(base_estimator=RandomForestClassifier())\n",
    "ada_params = {\n",
    "    'n_estimators': [50,100],\n",
    "    'base_estimator__max_depth': [1,2],\n",
    "    'learning_rate': [.9, 1.]\n",
    "}\n",
    "gs = GridSearchCV(ada, param_grid=ada_params, cv=3)\n",
    "gs.fit(X_train, y_train)\n",
    "print(gs.best_score_)\n",
    "gs.best_params_\n",
    "\n",
    "\n",
    "\n"
   ]
  },
  {
   "cell_type": "code",
   "execution_count": 201,
   "metadata": {},
   "outputs": [
    {
     "data": {
      "text/plain": [
       "0.928"
      ]
     },
     "execution_count": 201,
     "metadata": {},
     "output_type": "execute_result"
    }
   ],
   "source": [
    "# Training set score\n",
    "gs.score(X_train, y_train)"
   ]
  },
  {
   "cell_type": "code",
   "execution_count": 200,
   "metadata": {},
   "outputs": [
    {
     "data": {
      "text/plain": [
       "0.9158"
      ]
     },
     "execution_count": 200,
     "metadata": {},
     "output_type": "execute_result"
    }
   ],
   "source": [
    "# Testing set score\n",
    "gs.score(X_test, y_test)"
   ]
  },
  {
   "cell_type": "markdown",
   "metadata": {},
   "source": [
    "0.9116000000000001\n",
    "{'base_estimator__max_depth': 2, 'learning_rate': 1.0, 'n_estimators': 100}"
   ]
  },
  {
   "cell_type": "markdown",
   "metadata": {},
   "source": [
    "**Analysis:** \n",
    "The best grid score was 0.912. \n",
    "The best parameters are as follows:\n",
    "- base_estimator_max_depth = 2\n",
    "- learning_rate = 1.0\n",
    "- n_estimators = 100\n",
    "<br>\n",
    "The grid search score on the training set was 0.928 and on the testing set was 0.916. This final model improves the high variance error as indicated by testing score that is no longer 0.99 and a very small difference between the training and testing scores. "
   ]
  },
  {
   "cell_type": "code",
   "execution_count": 157,
   "metadata": {},
   "outputs": [],
   "source": [
    "# Generate predictions on test set.\n",
    "y_pred_gs = gs.predict(X_test)"
   ]
  },
  {
   "cell_type": "code",
   "execution_count": 158,
   "metadata": {},
   "outputs": [
    {
     "name": "stdout",
     "output_type": "stream",
     "text": [
      "[[2242  258]\n",
      " [ 163 2337]]\n"
     ]
    }
   ],
   "source": [
    "# Generate confusion matrix.\n",
    "tn, fp, fn, tp = confusion_matrix(y_test,\n",
    "                                  y_pred_gs).ravel()\n",
    "\n",
    "print(confusion_matrix(y_test,\n",
    "                       y_pred_gs))"
   ]
  },
  {
   "cell_type": "code",
   "execution_count": 159,
   "metadata": {},
   "outputs": [
    {
     "data": {
      "image/png": "[encoded data removed]",
      "text/plain": [
       "<Figure size 432x288 with 2 Axes>"
      ]
     },
     "metadata": {
      "needs_background": "light"
     },
     "output_type": "display_data"
    }
   ],
   "source": [
    "# Plot confusion matrix\n",
    "plot_confusion_matrix(gs, X_test, y_test, cmap='Blues', values_format='d');\n",
    "# code --> https://github.com/mychetan/understanding_player_preference_using_reddit_data/blob/master/code/04_modeling.ipynb"
   ]
  },
  {
   "cell_type": "code",
   "execution_count": 194,
   "metadata": {},
   "outputs": [],
   "source": [
    "tp_gs = 2337 # True Positives (Boosted Random Forest)\n",
    "tn_gs = 2242 # True Negatives (Boosted Random Forest)\n",
    "fp_gs = 258 # False Positives (Boosted Random Forest)\n",
    "fn_gs = 163 # False Negatives (Boosted Random Forest)"
   ]
  },
  {
   "cell_type": "code",
   "execution_count": 195,
   "metadata": {},
   "outputs": [
    {
     "name": "stdout",
     "output_type": "stream",
     "text": [
      "Sensitivity: 0.9348\n"
     ]
    }
   ],
   "source": [
    "# Calculate sensitivity.\n",
    "\n",
    "sens_gs = tp_gs / (tp_gs + fn_gs)\n",
    "\n",
    "print(f'Sensitivity: {round(sens_gs, 4)}')"
   ]
  },
  {
   "cell_type": "code",
   "execution_count": 196,
   "metadata": {},
   "outputs": [
    {
     "name": "stdout",
     "output_type": "stream",
     "text": [
      "Specificity: 0.8968\n"
     ]
    }
   ],
   "source": [
    "# Calculate specificity.\n",
    "\n",
    "spec_gs = tn_gs / (tn_gs + fp_gs)\n",
    "\n",
    "print(f'Specificity: {round(spec_gs, 4)}')"
   ]
  },
  {
   "cell_type": "code",
   "execution_count": 197,
   "metadata": {},
   "outputs": [
    {
     "name": "stdout",
     "output_type": "stream",
     "text": [
      "Accuracy: 0.9158\n"
     ]
    }
   ],
   "source": [
    "# Calculate accuracy.\n",
    "\n",
    "accuracy_gs = (tp_gs + tn_gs) / (tp_gs + tn_gs + fp_gs + fn_gs) \n",
    "\n",
    "print(f'Accuracy: {round(accuracy_gs, 4)}')"
   ]
  },
  {
   "cell_type": "code",
   "execution_count": 198,
   "metadata": {},
   "outputs": [
    {
     "name": "stdout",
     "output_type": "stream",
     "text": [
      "Precision: 0.9006\n"
     ]
    }
   ],
   "source": [
    "# Calculate precision.\n",
    "\n",
    "precision_gs = tp_gs / (tp_gs + fp_gs)\n",
    "\n",
    "print(f'Precision: {round(precision_gs, 4)}')"
   ]
  },
  {
   "cell_type": "code",
   "execution_count": 199,
   "metadata": {},
   "outputs": [
    {
     "name": "stdout",
     "output_type": "stream",
     "text": [
      "Recall: 0.9348\n"
     ]
    }
   ],
   "source": [
    "# Calculate recall.\n",
    "\n",
    "recall_gs = tp_gs / (tp_gs + fn_gs)\n",
    "\n",
    "print(f'Recall: {round(recall_gs, 4)}')"
   ]
  },
  {
   "cell_type": "markdown",
   "metadata": {},
   "source": [
    "**Analysis:**\n",
    "<br>\n",
    "The boosted random forest model has a sensitivity of 89.7%, which is the best score of all three models. The specificity is 91.6%, which is about the same as the other models."
   ]
  },
  {
   "cell_type": "markdown",
   "metadata": {},
   "source": [
    "### Comparing the Models and Conclusion"
   ]
  },
  {
   "cell_type": "markdown",
   "metadata": {},
   "source": [
    "Comparing Model Accuracy:\n",
    "<br>\n",
    "The boosed random forest model performed the best on accuracy, recall and sensitivity. Precision and sensitivity were not as good as the other models. While we would like the boosted random forest to outperform the other two models, the lower precision and sensitivity scores are not alarming. The decision tree and random forest were overfit to the training data. Neither one could be the winner of the three models since they would not generalize to new data. The boosted random forest is the clear favorite."
   ]
  },
  {
   "cell_type": "code",
   "execution_count": 202,
   "metadata": {},
   "outputs": [
    {
     "data": {
      "image/png": "[encoded data removed]",
      "text/plain": [
       "<Figure size 432x288 with 1 Axes>"
      ]
     },
     "metadata": {
      "needs_background": "light"
     },
     "output_type": "display_data"
    }
   ],
   "source": [
    "Accuracy = [accuracy_dt, accuracy_rf, accuracy_gs]\n",
    "Methods = ['Decision_Trees', 'Random_Forest', 'Boosted_Random_Forest']\n",
    "Accuracy_pos = np.arange(len(Methods))\n",
    "plt.bar(Accuracy_pos, Accuracy)\n",
    "plt.xticks(Accuracy_pos, Methods)\n",
    "plt.title('Comparing the Accuracy of Each Model')\n",
    "plt.show()"
   ]
  },
  {
   "cell_type": "markdown",
   "metadata": {},
   "source": [
    "Comparing Model Precision"
   ]
  },
  {
   "cell_type": "code",
   "execution_count": 203,
   "metadata": {},
   "outputs": [
    {
     "data": {
      "image/png": "[encoded data removed]",
      "text/plain": [
       "<Figure size 432x288 with 1 Axes>"
      ]
     },
     "metadata": {
      "needs_background": "light"
     },
     "output_type": "display_data"
    }
   ],
   "source": [
    "Precision = [precision_dt, precision_rf, precision_gs]\n",
    "Precision_pos = np.arange(len(Methods))\n",
    "plt.bar(Precision_pos, Precision)\n",
    "plt.xticks(Precision_pos, Methods)\n",
    "plt.title('Comparing the Precision of Each Model')\n",
    "plt.show()"
   ]
  },
  {
   "cell_type": "markdown",
   "metadata": {},
   "source": [
    "Comparing Model Recall"
   ]
  },
  {
   "cell_type": "code",
   "execution_count": 204,
   "metadata": {},
   "outputs": [
    {
     "data": {
      "image/png": "[encoded data removed]",
      "text/plain": [
       "<Figure size 432x288 with 1 Axes>"
      ]
     },
     "metadata": {
      "needs_background": "light"
     },
     "output_type": "display_data"
    }
   ],
   "source": [
    "Recall = [recall_dt, recall_rf, recall_gs]\n",
    "Recall_pos = np.arange(len(Methods))\n",
    "plt.bar(Recall_pos, Recall)\n",
    "plt.xticks(Recall_pos, Methods)\n",
    "plt.title('Comparing the Recall of Each Model')\n",
    "plt.show()"
   ]
  },
  {
   "cell_type": "code",
   "execution_count": 208,
   "metadata": {},
   "outputs": [
    {
     "data": {
      "image/png": "[encoded data removed]",
      "text/plain": [
       "<Figure size 432x288 with 1 Axes>"
      ]
     },
     "metadata": {
      "needs_background": "light"
     },
     "output_type": "display_data"
    }
   ],
   "source": [
    "Sensitivity = [sens_dt, sens_rf, sens_gs]\n",
    "Sensitivity_pos = np.arange(len(Methods))\n",
    "plt.bar(Sensitivity_pos, Recall)\n",
    "plt.xticks(Sensitivity_pos, Methods)\n",
    "plt.title('Comparing the Sensitivity of Each Model')\n",
    "plt.show()"
   ]
  },
  {
   "cell_type": "code",
   "execution_count": 210,
   "metadata": {},
   "outputs": [
    {
     "data": {
      "image/png": "[encoded data removed]",
      "text/plain": [
       "<Figure size 432x288 with 1 Axes>"
      ]
     },
     "metadata": {
      "needs_background": "light"
     },
     "output_type": "display_data"
    }
   ],
   "source": [
    "Specificity = [spec_dt, spec_rf, spec_gs]\n",
    "Specificity_pos = np.arange(len(Methods))\n",
    "plt.bar(Specificity_pos, Recall)\n",
    "plt.xticks(Specificity_pos, Methods)\n",
    "plt.title('Comparing the Specificity of Each Model')\n",
    "plt.show()"
   ]
  }
 ],
 "metadata": {
  "kernelspec": {
   "display_name": "Python 3",
   "language": "python",
   "name": "python3"
  },
  "language_info": {
   "codemirror_mode": {
    "name": "ipython",
    "version": 3
   },
   "file_extension": ".py",
   "mimetype": "text/x-python",
   "name": "python",
   "nbconvert_exporter": "python",
   "pygments_lexer": "ipython3",
   "version": "3.8.3"
  }
 },
 "nbformat": 4,
 "nbformat_minor": 4
}
